{
 "cells": [
  {
   "cell_type": "code",
   "execution_count": 1,
   "metadata": {},
   "outputs": [],
   "source": [
    "# Example:\n",
    "\n",
    "# filename,width,height,class,xmin,ymin,xmax,ymax\n",
    "## name, col(x), row(y)\n",
    "# 34.jpg,236,241,ruby,134,48,203,118\n",
    "# 34.jpg,236,241,weiss,79,18,153,106\n",
    "# 35.jpg,236,189,ruby,79,23,132,76\n",
    "# 35.jpg,236,189,weiss,111,11,163,72\n",
    "# 37.jpg,236,295,weiss,31,35,123,129\n",
    "# 37.jpg,236,295,ruby,112,22,203,116\n",
    "# 36.jpg,622,350,ruby,128,22,309,226\n",
    "# 36.jpg,622,350,weiss,321,1,508,148\n"
   ]
  },
  {
   "cell_type": "code",
   "execution_count": null,
   "metadata": {},
   "outputs": [],
   "source": []
  },
  {
   "cell_type": "code",
   "execution_count": 36,
   "metadata": {},
   "outputs": [],
   "source": [
    "import scipy\n",
    "import os\n",
    "import cv2\n",
    "import csv\n",
    "import random\n",
    "import shutil\n",
    "from scipy.io import loadmat"
   ]
  },
  {
   "cell_type": "code",
   "execution_count": 119,
   "metadata": {},
   "outputs": [],
   "source": [
    "def oneOutTen():\n",
    "    if random.randrange(0, 10) == 3:\n",
    "        return True\n",
    "    else:\n",
    "        return False\n",
    "    \n",
    "def standardLabel(labelInput):\n",
    "    #name tlx tly brx bry\n",
    "    result = labelInput[0].split('    ')\n",
    "    return result[0], result[1], result[2], result[3], result[4]\n",
    "\n",
    "def cmp_img(a, b):\n",
    "    a = os.path.splitext(a)[0].split('_')\n",
    "    b = os.path.splitext(b)[0].split('_')\n",
    "    \n",
    "    a_body, a_num = a[1], a[2]\n",
    "    b_body, b_num = b[1], b[2]\n",
    "    \n",
    "    if a_body > b_body:\n",
    "        return 1\n",
    "   \n",
    "    if a_body < b_body:\n",
    "        return -1\n",
    "    \n",
    "    if int(a_num) > int(b_num):\n",
    "        return 1\n",
    "    \n",
    "    if int(a_num) < int(b_num):\n",
    "        return -1\n",
    "    \n",
    "    return 0"
   ]
  },
  {
   "cell_type": "code",
   "execution_count": null,
   "metadata": {},
   "outputs": [],
   "source": []
  },
  {
   "cell_type": "code",
   "execution_count": null,
   "metadata": {},
   "outputs": [],
   "source": []
  },
  {
   "cell_type": "code",
   "execution_count": null,
   "metadata": {},
   "outputs": [],
   "source": [
    "width = 640\n",
    "height = 480\n",
    "\n",
    "labelInputs = iter(sorted(['I_Avenue', 'I_BasketballField', 'I_Chinesebook', 'I_ClassRoom', 'I_ComputerScreen']))\n",
    "data_type = 'test'\n",
    "\n",
    "imgList = os.listdir(data_type)\n",
    "imgList.sort(cmp=cmp_img)\n",
    "print imgList[:50]\n",
    "totalImg = len(imgList)\n",
    "print 'total images: %s' % totalImg\n",
    "\n",
    "currentLabel = labelInputs.next()\n",
    "labelStream = open('label/%s_label.txt' % currentLabel, 'r')\n",
    "reader = csv.reader(labelStream)\n",
    "\n",
    "with open('deep_finger_%s.csv' % data_type, 'wb') as fout:\n",
    "    writer = csv.writer(fout)\n",
    "    writer.writerow(['filename','width','height','class','xmin','ymin','xmax','ymax'])\n",
    "\n",
    "    counter = 0\n",
    "    for item in imgList:\n",
    "        counter += 1\n",
    "        if counter % 5000 == 0:\n",
    "            print counter\n",
    "        if counter == totalImg:\n",
    "            print counter\n",
    "            \n",
    "        while not item.startswith(currentLabel):\n",
    "            currentLabel = labelInputs.next()\n",
    "            labelStream.close()\n",
    "            labelStream = open('label/%s_label.txt' % currentLabel, 'r')\n",
    "            reader = csv.reader(labelStream)\n",
    "\n",
    "        name, tlx, tly, brx, bry = standardLabel(reader.next())\n",
    "        try:\n",
    "            while not name == item:\n",
    "                name, tlx, tly, brx, bry = standardLabel(reader.next())\n",
    "        except StopIteration as e:\n",
    "            print e\n",
    "            print name\n",
    "            print item\n",
    "            raise\n",
    "        \n",
    "        writer.writerow([item, width, height, 'hand', int(float(tlx)*width), int(float(tly)*height), \n",
    "                         int(float(brx)*width), int(float(bry)*height)])"
   ]
  },
  {
   "cell_type": "code",
   "execution_count": 137,
   "metadata": {},
   "outputs": [
    {
     "name": "stdout",
     "output_type": "stream",
     "text": [
      "16114\n",
      "True\n"
     ]
    }
   ],
   "source": [
    "from PIL import Image\n",
    "\n",
    "data_type = 'train'\n",
    "\n",
    "print len(os.listdir(data_type))\n",
    "counter = 0\n",
    "\n",
    "for item in os.listdir(data_type):\n",
    "    counter += 1\n",
    "    if counter % 1000 == 0:\n",
    "        print counter\n",
    "    im = Image.open('%s/%s' % (data_type, item))\n",
    "    rgb_im = im.convert('RGB')\n",
    "    \n",
    "    rgb_im.save('%s_jpg/%s.jpg' % (data_type, os.path.splitext(item)[0]))"
   ]
  },
  {
   "cell_type": "code",
   "execution_count": null,
   "metadata": {},
   "outputs": [],
   "source": []
  },
  {
   "cell_type": "code",
   "execution_count": 139,
   "metadata": {},
   "outputs": [],
   "source": [
    "from PIL import Image\n",
    "\n",
    "counter = {\n",
    "    'I_Avenue': 0, \n",
    "    'I_BasketballField': 0, \n",
    "    'I_Chinesebook': 0, \n",
    "    'I_ClassRoom': 0, \n",
    "    'I_ComputerScreen': 0\n",
    "}\n",
    "\n",
    "def convert_img(imgCat):\n",
    "    for item in os.listdir(data_type):\n",
    "        if not item.startswith(imgCat):\n",
    "            continue\n",
    "        \n",
    "        counter[imgCat] += 1\n",
    "        if counter[imgCat] % 1000 == 0:\n",
    "            print '%s: %s' % (imgCat, counter[imgCat])\n",
    "            \n",
    "        im = Image.open('%s/%s' % (data_type, item))\n",
    "        rgb_im = im.convert('RGB')\n",
    "        rgb_im.save('%s_jpg/%s.jpg' % (data_type, os.path.splitext(item)[0]))"
   ]
  },
  {
   "cell_type": "code",
   "execution_count": 142,
   "metadata": {},
   "outputs": [
    {
     "name": "stdout",
     "output_type": "stream",
     "text": [
      "I_ComputerScreen: 1000\n",
      "I_Chinesebook: 1000\n",
      "I_ClassRoom: 1000\n",
      "I_Avenue: 1000\n",
      "I_BasketballField: 1000\n",
      "I_ComputerScreen: 2000\n",
      "I_Chinesebook: 2000\n",
      "I_ClassRoom: 2000\n",
      "I_Avenue: 2000\n",
      "I_BasketballField: 2000\n",
      "I_ComputerScreen: 3000\n",
      "I_ClassRoom: 3000\n",
      "I_Avenue: 3000\n",
      "I_ComputerScreen: 4000\n"
     ]
    }
   ],
   "source": [
    "from multiprocessing import Pool\n",
    "pool = Pool(processes=5)\n",
    "results = pool.map(convert_img, counter.keys())\n"
   ]
  },
  {
   "cell_type": "code",
   "execution_count": null,
   "metadata": {},
   "outputs": [],
   "source": []
  },
  {
   "cell_type": "code",
   "execution_count": null,
   "metadata": {},
   "outputs": [],
   "source": []
  },
  {
   "cell_type": "code",
   "execution_count": null,
   "metadata": {},
   "outputs": [],
   "source": []
  }
 ],
 "metadata": {
  "kernelspec": {
   "display_name": "Python 2",
   "language": "python",
   "name": "python2"
  },
  "language_info": {
   "codemirror_mode": {
    "name": "ipython",
    "version": 2
   },
   "file_extension": ".py",
   "mimetype": "text/x-python",
   "name": "python",
   "nbconvert_exporter": "python",
   "pygments_lexer": "ipython2",
   "version": "2.7.12"
  }
 },
 "nbformat": 4,
 "nbformat_minor": 2
}
