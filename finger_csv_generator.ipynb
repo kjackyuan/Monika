{
 "cells": [
  {
   "cell_type": "code",
   "execution_count": 1,
   "metadata": {},
   "outputs": [],
   "source": [
    "import cv2\n",
    "from matplotlib import pyplot as plt\n",
    "%matplotlib inline"
   ]
  },
  {
   "cell_type": "code",
   "execution_count": null,
   "metadata": {},
   "outputs": [],
   "source": []
  },
  {
   "cell_type": "code",
   "execution_count": null,
   "metadata": {},
   "outputs": [],
   "source": []
  },
  {
   "cell_type": "code",
   "execution_count": 3,
   "metadata": {},
   "outputs": [],
   "source": [
    "import scipy\n",
    "import os\n",
    "import cv2\n",
    "import csv\n",
    "import random\n",
    "import shutil\n",
    "from scipy.io import loadmat"
   ]
  },
  {
   "cell_type": "code",
   "execution_count": 9,
   "metadata": {},
   "outputs": [],
   "source": [
    "width = 640\n",
    "height = 480\n",
    "    \n",
    "foffset = 20\n",
    "\n",
    "def parseLabel(labelInput):\n",
    "    #parsed: name tlx tly brx bry ftlx ftly\n",
    "    #output: name minx miny maxx maxy, fminx, fminy, fmaxx, fmaxy\n",
    "    \n",
    "    result = labelInput[0].split('    ')\n",
    "    name = os.path.splitext(result[0])[0]\n",
    "    tlx, tly, brx, bry = result[1], result[2], result[3], result[4];\n",
    "    minx, miny, maxx, maxy = int(float(tlx)*width), int(float(tly)*height), \\\n",
    "                             int(float(brx)*width), int(float(bry)*height)\n",
    "    \n",
    "    ftlx, ftly = result[5], result[6];\n",
    "    fminx, fminy, fmaxx, fmaxy = int(float(ftlx)*width) - foffset, \\\n",
    "                                 int(float(ftly)*height) - foffset, \\\n",
    "                                 int(float(ftlx)*width) + foffset, \\\n",
    "                                 int(float(ftly)*height) + foffset\n",
    "    \n",
    "    hand_width = maxx - minx\n",
    "    hand_height = maxy - miny\n",
    "    \n",
    "    fminx = max(0, fminx - minx)\n",
    "    fminy = max(0, fminy - miny)\n",
    "    fmaxx = min(hand_width, fmaxx - minx)\n",
    "    fmaxy = min(hand_height, fmaxy - miny)\n",
    "    return name, minx, miny, maxx, maxy, fminx, fminy, fmaxx, fmaxy, hand_width, hand_height\n",
    "            \n",
    "\n",
    "def cmp_img(a, b):\n",
    "    a = os.path.splitext(a)[0].split('_')\n",
    "    b = os.path.splitext(b)[0].split('_')\n",
    "    \n",
    "    a_body, a_num = a[1], a[2]\n",
    "    b_body, b_num = b[1], b[2]\n",
    "    \n",
    "    if a_body > b_body:\n",
    "        return 1\n",
    "   \n",
    "    if a_body < b_body:\n",
    "        return -1\n",
    "    \n",
    "    if int(a_num) > int(b_num):\n",
    "        return 1\n",
    "    \n",
    "    if int(a_num) < int(b_num):\n",
    "        return -1\n",
    "    \n",
    "    return 0\n",
    "\n",
    "def crop(img, xmin, ymin, xmax, ymax):\n",
    "    return img[ymin:ymax, xmin:xmax]"
   ]
  },
  {
   "cell_type": "code",
   "execution_count": null,
   "metadata": {},
   "outputs": [],
   "source": []
  },
  {
   "cell_type": "code",
   "execution_count": null,
   "metadata": {},
   "outputs": [],
   "source": []
  },
  {
   "cell_type": "code",
   "execution_count": 13,
   "metadata": {},
   "outputs": [
    {
     "name": "stdout",
     "output_type": "stream",
     "text": [
      "['I_Avenue_0.jpg', 'I_Avenue_1.jpg', 'I_Avenue_3.jpg', 'I_Avenue_4.jpg', 'I_Avenue_5.jpg', 'I_Avenue_7.jpg', 'I_Avenue_8.jpg', 'I_Avenue_9.jpg', 'I_Avenue_10.jpg', 'I_Avenue_11.jpg', 'I_Avenue_12.jpg', 'I_Avenue_13.jpg', 'I_Avenue_14.jpg', 'I_Avenue_15.jpg', 'I_Avenue_16.jpg', 'I_Avenue_17.jpg', 'I_Avenue_18.jpg', 'I_Avenue_19.jpg', 'I_Avenue_20.jpg', 'I_Avenue_21.jpg']\n",
      "total images: 16114\n"
     ]
    }
   ],
   "source": [
    "labelInputs = iter(sorted(['I_Avenue', 'I_BasketballField', 'I_Chinesebook', 'I_ClassRoom', 'I_ComputerScreen']))\n",
    "currentLabel = labelInputs.next()\n",
    "\n",
    "data_type = 'train'\n",
    "\n",
    "imgList = os.listdir('images/%s' % data_type)\n",
    "imgList.sort(cmp=cmp_img)\n",
    "print imgList[:20]\n",
    "totalImg = len(imgList)\n",
    "print 'total images: %s' % totalImg\n",
    "\n",
    "\n",
    "labelStream = open('images/label/%s_label.txt' % currentLabel, 'r')\n",
    "reader = csv.reader(labelStream)"
   ]
  },
  {
   "cell_type": "code",
   "execution_count": 14,
   "metadata": {},
   "outputs": [
    {
     "name": "stdout",
     "output_type": "stream",
     "text": [
      "1000\n",
      "2000\n",
      "3000\n",
      "4000\n",
      "5000\n",
      "6000\n",
      "7000\n",
      "8000\n",
      "9000\n",
      "10000\n",
      "11000\n",
      "12000\n",
      "13000\n",
      "14000\n",
      "15000\n",
      "16000\n"
     ]
    }
   ],
   "source": [
    "with open('images/finger_track_%s.csv' % data_type, 'wb') as fout:\n",
    "    writer= csv.writer(fout)\n",
    "    writer.writerow(['filename','width','height','class','xmin','ymin','xmax','ymax'])\n",
    "        \n",
    "    counter = 0;\n",
    "    for item in imgList:\n",
    "        while not item.startswith(currentLabel):\n",
    "            currentLabel = labelInputs.next()\n",
    "            labelStream.close()\n",
    "            labelStream = open('images/label/%s_label.txt' % currentLabel, 'r')\n",
    "            reader = csv.reader(labelStream)\n",
    "\n",
    "        name, minx, miny, maxx, maxy, fminx, fminy, fmaxx, fmaxy, hand_width, hand_height = parseLabel(reader.next())\n",
    "        try:\n",
    "            while not os.path.splitext(name)[0] == os.path.splitext(item)[0]:\n",
    "                name, minx, miny, maxx, maxy, fminx, fminy, fmaxx, fmaxy, hand_width, hand_height = parseLabel(reader.next())\n",
    "        except StopIteration as e:\n",
    "            print e\n",
    "            print name\n",
    "            print item\n",
    "            raise\n",
    "            \n",
    "        counter += 1\n",
    "        if counter % 1000 == 0:\n",
    "            print counter\n",
    "\n",
    "        img = cv2.imread('images/%s/%s' % (data_type, item), 1);\n",
    "        hand_img = crop(img, minx, miny, maxx, maxy)\n",
    "        cv2.imwrite('images/%s_finger/%s.jpg' % (data_type, os.path.splitext(name)[0]), \n",
    "                                                 hand_img)\n",
    "        \n",
    "        finger_img = crop(hand_img, fminx, fminy, fmaxx, fmaxy)\n",
    "        cv2.imwrite('images/%s_finger_pic/%s.jpg' % (data_type, os.path.splitext(name)[0]), \n",
    "                                                     finger_img)\n",
    "\n",
    "        writer.writerow([item, hand_width, hand_height, 'finger', fminx, fminy, fmaxx, fmaxy])"
   ]
  },
  {
   "cell_type": "code",
   "execution_count": null,
   "metadata": {},
   "outputs": [],
   "source": []
  },
  {
   "cell_type": "code",
   "execution_count": null,
   "metadata": {},
   "outputs": [],
   "source": []
  }
 ],
 "metadata": {
  "kernelspec": {
   "display_name": "Python 2",
   "language": "python",
   "name": "python2"
  },
  "language_info": {
   "codemirror_mode": {
    "name": "ipython",
    "version": 2
   },
   "file_extension": ".py",
   "mimetype": "text/x-python",
   "name": "python",
   "nbconvert_exporter": "python",
   "pygments_lexer": "ipython2",
   "version": "2.7.12"
  }
 },
 "nbformat": 4,
 "nbformat_minor": 2
}
